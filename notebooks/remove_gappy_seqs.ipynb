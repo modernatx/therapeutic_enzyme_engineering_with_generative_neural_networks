{
 "cells": [
  {
   "cell_type": "markdown",
   "metadata": {},
   "source": [
    "### Remove gappy sequences"
   ]
  },
  {
   "cell_type": "code",
   "execution_count": null,
   "metadata": {},
   "outputs": [],
   "source": [
    "from Bio import SeqIO\n",
    "from seqlike import aaSeqLike\n",
    "import pandas as pd\n",
    "import matplotlib.pyplot as plt\n",
    "from seqlike.utils.sequences import ungap\n",
    "\n",
    "from slugify import slugify\n",
    "\n",
    "from therapeutic_enzyme_engineering_with_generative_neural_networks.gappy_sequences import identify_gappy_sequences\n",
    "\n",
    "\n",
    "refrec = aaSeqLike(SeqIO.read('../data/B5LY47.fasta', 'fasta'))\n",
    "print(refrec.id, len(refrec))\n",
    "print(refrec)"
   ]
  },
  {
   "cell_type": "code",
   "execution_count": null,
   "metadata": {},
   "outputs": [],
   "source": [
    "refreckey = slugify(refrec.id, lowercase=False)\n",
    "db = 'nr'\n",
    "hits = 5000"
   ]
  },
  {
   "cell_type": "markdown",
   "metadata": {},
   "source": [
    "#### Load BLASTp alignment"
   ]
  },
  {
   "cell_type": "code",
   "execution_count": null,
   "metadata": {},
   "outputs": [],
   "source": [
    "\n",
    "aligned = pd.Series(aaSeqLike(s) for s in SeqIO.parse(f'../data/{refreckey}_blast_{db}_{hits}_aligned.fasta', 'fasta'))"
   ]
  },
  {
   "cell_type": "code",
   "execution_count": null,
   "metadata": {},
   "outputs": [],
   "source": [
    "aligned.seq.as_alignment().get_alignment_length()"
   ]
  },
  {
   "cell_type": "code",
   "execution_count": null,
   "metadata": {},
   "outputs": [],
   "source": [
    "aligned.head(100).seq.plot(boxheight=1, use_bokeh=False, show_grouping=True)\n",
    "#aligned.seq.plot(boxheight=10, show_ids=True)"
   ]
  },
  {
   "cell_type": "code",
   "execution_count": null,
   "metadata": {},
   "outputs": [],
   "source": [
    "\n",
    "\n",
    "plt.hist([len(s.ungap()) for s in aligned], bins=100, range=(0,300));"
   ]
  },
  {
   "cell_type": "markdown",
   "metadata": {},
   "source": [
    "#### Remove short sequences"
   ]
  },
  {
   "cell_type": "code",
   "execution_count": null,
   "metadata": {},
   "outputs": [],
   "source": [
    "seqrecs1 = pd.Series(s for s in aligned if len(s.ungap()) > 250)\n",
    "print(len(seqrecs1))"
   ]
  },
  {
   "cell_type": "code",
   "execution_count": null,
   "metadata": {},
   "outputs": [],
   "source": [
    "aligned1 = seqrecs1.seq.align()\n",
    "print(aligned1.seq.as_alignment().get_alignment_length())\n",
    "aligned1.head(100).seq.plot(boxheight=1, use_bokeh=False, show_grouping=True)"
   ]
  },
  {
   "cell_type": "markdown",
   "metadata": {},
   "source": [
    "#### Remove gappy sequences"
   ]
  },
  {
   "cell_type": "code",
   "execution_count": null,
   "metadata": {},
   "outputs": [],
   "source": [
    "\n",
    "ignore = identify_gappy_sequences(seqrecs1, threshold=0.7, min_score=1)\n",
    "seqrecs2 = pd.Series(s for s in seqrecs1 if s.id not in ignore)\n",
    "print(len(ignore), len(seqrecs2))"
   ]
  },
  {
   "cell_type": "code",
   "execution_count": null,
   "metadata": {},
   "outputs": [],
   "source": [
    "aligned2 = seqrecs2.seq.align()\n",
    "print(aligned2.seq.as_alignment().get_alignment_length())\n",
    "aligned2.seq.plot(boxheight=1, use_bokeh=False, show_grouping=True)"
   ]
  },
  {
   "cell_type": "code",
   "execution_count": null,
   "metadata": {},
   "outputs": [],
   "source": [
    "plt.hist([len(s.ungap()) for s in aligned2], bins=50, range=(250,300));"
   ]
  },
  {
   "cell_type": "code",
   "execution_count": null,
   "metadata": {},
   "outputs": [],
   "source": []
  }
 ],
 "metadata": {
  "kernelspec": {
   "display_name": "Python 3",
   "language": "python",
   "name": "python3"
  },
  "language_info": {
   "codemirror_mode": {
    "name": "ipython",
    "version": 3
   },
   "file_extension": ".py",
   "mimetype": "text/x-python",
   "name": "python",
   "nbconvert_exporter": "python",
   "pygments_lexer": "ipython3",
   "version": "3.9.7"
  }
 },
 "nbformat": 4,
 "nbformat_minor": 4
}
