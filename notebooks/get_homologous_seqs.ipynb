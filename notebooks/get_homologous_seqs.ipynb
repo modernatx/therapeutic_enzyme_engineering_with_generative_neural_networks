{
 "cells": [
  {
   "cell_type": "code",
   "execution_count": null,
   "metadata": {},
   "outputs": [],
   "source": [
    "import pandas as pd\n",
    "from Bio import SeqIO\n",
    "from seqlike import aaSeqLike\n",
    "from slugify import slugify\n",
    "\n",
    "from therapeutic_enzyme_engineering_with_generative_neural_networks.blast_utils import (\n",
    "    clean_xmlfile,\n",
    "    parse_seqrecs_from_blast,\n",
    "    run_protein_blast,\n",
    ")\n"
   ]
  },
  {
   "cell_type": "markdown",
   "metadata": {},
   "source": [
    "### Get homologous sequences by BLAST search"
   ]
  },
  {
   "cell_type": "markdown",
   "metadata": {},
   "source": [
    "### Load the reference sequence"
   ]
  },
  {
   "cell_type": "code",
   "execution_count": null,
   "metadata": {},
   "outputs": [],
   "source": [
    "\n",
    "refrec = aaSeqLike(SeqIO.read('../data/B5LY47.fasta', 'fasta'))\n",
    "print(refrec.id, len(refrec))\n",
    "print(refrec)"
   ]
  },
  {
   "cell_type": "markdown",
   "metadata": {},
   "source": [
    "#### BLASTp search against UniProtKB/SwissProt ('swissprot') database\n",
    "UniProtKB/SwissProt is a semi-curated database of higher quality sequences than 'nr' (below)"
   ]
  },
  {
   "cell_type": "code",
   "execution_count": null,
   "metadata": {},
   "outputs": [],
   "source": [
    "refreckey = slugify(refrec.id, lowercase=False)\n",
    "\n",
    "db = \"swissprot\"\n",
    "hits = 100\n",
    "blastrecs = run_protein_blast(refrec.to_seqrecord(), f\"../data/{refreckey}_blast_{db}_{hits}.xml\", db=db, hits=hits)\n",
    "seqrecs = pd.Series([refrec] + list(parse_seqrecs_from_blast(blastrecs)))\n",
    "len(seqrecs)\n"
   ]
  },
  {
   "cell_type": "code",
   "execution_count": null,
   "metadata": {},
   "outputs": [],
   "source": [
    "aligned = seqrecs.seq.align()\n",
    "aligned.head(100).seq.plot(show_names=True, show_descriptions=True, show_grouping=True)"
   ]
  },
  {
   "cell_type": "markdown",
   "metadata": {},
   "source": [
    "#### BLASTp search against non-redundant ('nr') database"
   ]
  },
  {
   "cell_type": "code",
   "execution_count": null,
   "metadata": {},
   "outputs": [],
   "source": [
    "\n",
    "db = 'nr'\n",
    "hits = 5000\n",
    "filename_nr = f'../data/{refreckey}_blast_{db}_{hits}.xml'\n",
    "blastrecs_nr = run_protein_blast(refrec.to_seqrecord(), filename_nr, db=db, hits=hits)\n",
    "clean_filename_nr = clean_xmlfile(filename_nr)\n",
    "blastrecs_nr = run_protein_blast(refrec.to_seqrecord(), clean_filename_nr, db=db, hits=hits)\n",
    "seqrecs_nr = pd.Series([refrec] + list(parse_seqrecs_from_blast(blastrecs_nr)))\n",
    "len(seqrecs_nr)"
   ]
  },
  {
   "cell_type": "code",
   "execution_count": null,
   "metadata": {},
   "outputs": [],
   "source": [
    "seqrecs_nr.head()"
   ]
  },
  {
   "cell_type": "code",
   "execution_count": null,
   "metadata": {},
   "outputs": [],
   "source": [
    "aligned_nr = seqrecs_nr.seq.align()\n",
    "SeqIO.write(aligned_nr.seq.as_alignment(), f'../data/{refreckey}_blast_{db}_{hits}_aligned.fasta', 'fasta')"
   ]
  },
  {
   "cell_type": "code",
   "execution_count": null,
   "metadata": {},
   "outputs": [],
   "source": [
    "aligned_nr.head(100).seq.plot(boxheight=1, show_grouping=True, use_bokeh=False)"
   ]
  },
  {
   "cell_type": "code",
   "execution_count": null,
   "metadata": {},
   "outputs": [],
   "source": [
    "aligned_nr.tail(100).seq.plot(boxheight=1, show_grouping=True, use_bokeh=False)"
   ]
  },
  {
   "cell_type": "code",
   "execution_count": null,
   "metadata": {},
   "outputs": [],
   "source": []
  }
 ],
 "metadata": {
  "kernelspec": {
   "display_name": "Python 3",
   "language": "python",
   "name": "python3"
  },
  "language_info": {
   "codemirror_mode": {
    "name": "ipython",
    "version": 3
   },
   "file_extension": ".py",
   "mimetype": "text/x-python",
   "name": "python",
   "nbconvert_exporter": "python",
   "pygments_lexer": "ipython3",
   "version": "3.9.7"
  }
 },
 "nbformat": 4,
 "nbformat_minor": 4
}
