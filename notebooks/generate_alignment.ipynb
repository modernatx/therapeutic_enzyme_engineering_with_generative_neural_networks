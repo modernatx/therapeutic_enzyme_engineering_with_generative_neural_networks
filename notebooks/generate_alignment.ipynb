{
 "cells": [
  {
   "cell_type": "code",
   "execution_count": null,
   "metadata": {},
   "outputs": [],
   "source": [
    "from therapeutic_enzyme_engineering_with_generative_neural_networks.model import VAE"
   ]
  },
  {
   "cell_type": "code",
   "execution_count": null,
   "metadata": {},
   "outputs": [],
   "source": []
  }
 ],
 "metadata": {
  "interpreter": {
   "hash": "1d2574065d21eb1a150d9b1e6e8398e2d8f09f045e1c3bf84028592f3257c3a1"
  },
  "kernelspec": {
   "display_name": "Python 3.9.7 64-bit ('usa_diversity_demographics': conda)",
   "language": "python",
   "name": "python3"
  },
  "language_info": {
   "codemirror_mode": {
    "name": "ipython",
    "version": 3
   },
   "file_extension": ".py",
   "mimetype": "text/x-python",
   "name": "python",
   "nbconvert_exporter": "python",
   "pygments_lexer": "ipython3",
   "version": "3.9.7"
  }
 },
 "nbformat": 4,
 "nbformat_minor": 2
}
